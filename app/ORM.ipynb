{
 "cells": [
  {
   "cell_type": "code",
   "execution_count": 1,
   "id": "f3c54496",
   "metadata": {},
   "outputs": [],
   "source": [
    "from blog.models import Post\n",
    "from django.db import models\n"
   ]
  },
  {
   "cell_type": "code",
   "execution_count": 2,
   "id": "009be90f",
   "metadata": {},
   "outputs": [],
   "source": [
    "posts = Post.objects.all()"
   ]
  },
  {
   "cell_type": "code",
   "execution_count": 3,
   "id": "230bf87c",
   "metadata": {},
   "outputs": [
    {
     "name": "stdout",
     "output_type": "stream",
     "text": [
      "/posts/1/\n",
      "/posts/test2/\n",
      "/posts/test_3/\n",
      "/posts/terry-onecher/\n",
      "/posts/lorevin/\n",
      "/posts/rt/\n",
      "/posts/user/\n",
      "/posts/wert/\n",
      "/posts/erter/\n",
      "/posts/post_45/\n",
      "/posts/post_47/\n",
      "/posts/post_48/\n",
      "/posts/test_slug/\n",
      "/posts/test-slug-disable/\n",
      "/posts/look_photo/\n"
     ]
    }
   ],
   "source": [
    "for i in posts:\n",
    "    print(i.get_absolute_url())"
   ]
  },
  {
   "cell_type": "code",
   "execution_count": 4,
   "id": "a51351ce",
   "metadata": {},
   "outputs": [
    {
     "data": {
      "text/plain": [
       "<QuerySet [<Post: ertrteter>, <Post: Look photo>, <Post: Lorevin>, <Post: rt>, <Post: Terry Onecher>, <Post: Test>, <Post: Test Slug Disable>, <Post: Test user user>, <Post: Test_3>, <Post: Test_Slug>, <Post: Test2>, <Post: wert>, <Post: Пост 45>, <Post: Пост 9>, <Post: Пост 98>]>"
      ]
     },
     "execution_count": 4,
     "metadata": {},
     "output_type": "execute_result"
    }
   ],
   "source": [
    "Post.objects.all().order_by('title')"
   ]
  },
  {
   "cell_type": "code",
   "execution_count": 5,
   "id": "407b9664",
   "metadata": {},
   "outputs": [
    {
     "data": {
      "text/plain": [
       "<QuerySet [<Post: Test>, <Post: Test2>, <Post: Test_3>, <Post: Terry Onecher>, <Post: Lorevin>, <Post: rt>, <Post: Test user user>, <Post: wert>, <Post: ertrteter>, <Post: Пост 45>, <Post: Пост 9>, <Post: Пост 98>, <Post: Test_Slug>, <Post: Test Slug Disable>, <Post: Look photo>]>"
      ]
     },
     "execution_count": 5,
     "metadata": {},
     "output_type": "execute_result"
    }
   ],
   "source": [
    "Post.objects.all()"
   ]
  },
  {
   "cell_type": "code",
   "execution_count": 6,
   "id": "dd53bfad",
   "metadata": {},
   "outputs": [
    {
     "data": {
      "text/plain": [
       "<QuerySet [<Post: Look photo>, <Post: Test Slug Disable>, <Post: Test_Slug>, <Post: Пост 98>, <Post: Пост 9>, <Post: Пост 45>, <Post: ertrteter>, <Post: wert>, <Post: Test user user>, <Post: rt>, <Post: Lorevin>, <Post: Terry Onecher>, <Post: Test_3>, <Post: Test2>, <Post: Test>]>"
      ]
     },
     "execution_count": 6,
     "metadata": {},
     "output_type": "execute_result"
    }
   ],
   "source": [
    "Post.objects.all().reverse()"
   ]
  },
  {
   "cell_type": "code",
   "execution_count": 7,
   "id": "22bea54b",
   "metadata": {},
   "outputs": [
    {
     "data": {
      "text/plain": [
       "<Post: Terry Onecher>"
      ]
     },
     "execution_count": 7,
     "metadata": {},
     "output_type": "execute_result"
    }
   ],
   "source": [
    "Post.objects.get(pk=3)"
   ]
  },
  {
   "cell_type": "code",
   "execution_count": 8,
   "id": "753c93de",
   "metadata": {},
   "outputs": [
    {
     "data": {
      "text/plain": [
       "'<p>ipsum dolor sit amet, consectetur adipisicing elit, sed do eiusmod tempor incididunt ut labore et dolore magna aliqua. Ut enim ad minim veniam, quis nostrud exercitation ullamco laboris nisi ut aliquip ex ea commodo consequat. Duis aute irure dolor in reprehenderit in voluptate velit esse cillum dolore eu fugiat nulla pariatur. Excepteur sint occaecat cupidatat non proident, sunt in culpa qui officia deserunt mollit anim id est laborum. Harum sunt modi rerum mollitia eveniet illum, asperiores impedit suscipit eaque doloremque voluptates, odio debitis assumenda quasi architecto quidem nam laboriosam animi nostrum natus cum? Dolorem quaerat accusamus consequatur praesentium tempora in cupiditate ipsam explicabo. Quibusdam totam veniam officia ipsa et modi, repellat vitae non cupiditate quis, voluptatem modi excepturi eligendi culpa animi nisi non cupiditate, error consequatur ipsam nihil quia laboriosam culpa saepe, cumque illum cum fugit sequi ex beatae aut. Quasi rerum quo harum quas provident saepe placeat ullam ipsum quae, tempore ea iusto aliquam quae dignissimos cumque quos officia esse dolorem, fuga possimus mollitia adipisci aspernatur nemo reiciendis quisquam expedita laudantium architecto, dolore optio nihil rem non. Corrupti molestias blanditiis corporis quam illo, maiores consequatur autem a ipsum magnam, culpa tempore sequi ullam architecto et accusantium.</p>'"
      ]
     },
     "execution_count": 8,
     "metadata": {},
     "output_type": "execute_result"
    }
   ],
   "source": [
    "i = Post.objects.get(title=\"Test2\")\n",
    "i.content"
   ]
  },
  {
   "cell_type": "raw",
   "id": "9e07d145",
   "metadata": {},
   "source": []
  },
  {
   "cell_type": "code",
   "execution_count": 10,
   "id": "378b1ee0",
   "metadata": {},
   "outputs": [
    {
     "data": {
      "text/plain": [
       "<QuerySet [<User: user_user>, <User: locky>, <User: user>, <User: admin>]>"
      ]
     },
     "execution_count": 10,
     "metadata": {},
     "output_type": "execute_result"
    }
   ],
   "source": [
    "User.objects.all()"
   ]
  },
  {
   "cell_type": "code",
   "execution_count": 12,
   "id": "a452c331",
   "metadata": {},
   "outputs": [
    {
     "data": {
      "text/plain": [
       "<QuerySet [{'id': 3, 'password': 'pbkdf2_sha256$390000$gcPduIhYsArBSQVjP8r6qw$Y9Xvinrq4cBCsgV6JN0YdwEsaCWTa4CPc9sNzVBH4Qo=', 'last_login': None, 'is_superuser': False, 'username': 'user_user', 'first_name': '', 'last_name': '', 'email': '', 'is_staff': False, 'is_active': True, 'date_joined': datetime.datetime(2023, 1, 24, 11, 11, 42, 589307, tzinfo=datetime.timezone.utc)}, {'id': 4, 'password': 'pbkdf2_sha256$390000$rbcXb3T3gfoX5xUSp3zAOF$g0fxUBSn9eacESUg3Cj7nCvaZV4ouItM8k93QfmKGhI=', 'last_login': datetime.datetime(2023, 1, 24, 18, 51, 17, 558892, tzinfo=datetime.timezone.utc), 'is_superuser': False, 'username': 'locky', 'first_name': '', 'last_name': '', 'email': '', 'is_staff': False, 'is_active': True, 'date_joined': datetime.datetime(2023, 1, 24, 18, 51, 17, 314989, tzinfo=datetime.timezone.utc)}, {'id': 5, 'password': 'pbkdf2_sha256$390000$137WjZS0bR5cSsRuPN8hXK$VgST55CH3UoCrmzRtZcFvu+IJbtk7qFHb7kUQE5L41M=', 'last_login': datetime.datetime(2023, 1, 24, 19, 31, 27, 135661, tzinfo=datetime.timezone.utc), 'is_superuser': False, 'username': 'user', 'first_name': '', 'last_name': '', 'email': '', 'is_staff': False, 'is_active': True, 'date_joined': datetime.datetime(2023, 1, 24, 19, 30, 47, 711185, tzinfo=datetime.timezone.utc)}, {'id': 1, 'password': 'pbkdf2_sha256$390000$jLaEjFo49bXWH0mb8VbnEB$3/PRGoeO55Bt3qwihGLet7hLMLHrqvRePz6ciIU1UHc=', 'last_login': datetime.datetime(2023, 1, 31, 6, 35, 37, 13400, tzinfo=datetime.timezone.utc), 'is_superuser': True, 'username': 'admin', 'first_name': '', 'last_name': '', 'email': '', 'is_staff': True, 'is_active': True, 'date_joined': datetime.datetime(2023, 1, 16, 11, 45, 5, 776241, tzinfo=datetime.timezone.utc)}]>"
      ]
     },
     "execution_count": 12,
     "metadata": {},
     "output_type": "execute_result"
    }
   ],
   "source": [
    "User.objects.values()"
   ]
  },
  {
   "cell_type": "code",
   "execution_count": 14,
   "id": "21692bd3",
   "metadata": {},
   "outputs": [],
   "source": [
    "us1=User.objects.get(pk=4)"
   ]
  },
  {
   "cell_type": "code",
   "execution_count": 16,
   "id": "bd933044",
   "metadata": {},
   "outputs": [
    {
     "data": {
      "text/plain": [
       "<QuerySet [<Post: Lorevin>, <Post: rt>, <Post: wert>, <Post: Test_Slug>, <Post: Test Slug Disable>, <Post: Look photo>]>"
      ]
     },
     "execution_count": 16,
     "metadata": {},
     "output_type": "execute_result"
    }
   ],
   "source": [
    "us1.post_set.all()"
   ]
  },
  {
   "cell_type": "code",
   "execution_count": 17,
   "id": "ff477253",
   "metadata": {},
   "outputs": [
    {
     "name": "stdout",
     "output_type": "stream",
     "text": [
      "Lorevin\n",
      "rt\n",
      "wert\n",
      "Test_Slug\n",
      "Test Slug Disable\n",
      "Look photo\n"
     ]
    }
   ],
   "source": [
    "tr = us1.post_set.all()\n",
    "for i in tr:\n",
    "    print(i.title)"
   ]
  },
  {
   "cell_type": "code",
   "execution_count": 20,
   "id": "0efcf290",
   "metadata": {},
   "outputs": [
    {
     "data": {
      "text/plain": [
       "<QuerySet [<Post: ertrteter>, <Post: Пост 45>, <Post: Пост 9>, <Post: Пост 98>, <Post: Test_Slug>, <Post: Test Slug Disable>, <Post: Look photo>]>"
      ]
     },
     "execution_count": 20,
     "metadata": {},
     "output_type": "execute_result"
    }
   ],
   "source": [
    "Post.objects.filter(id__gt=8) # больше where id > 8"
   ]
  },
  {
   "cell_type": "code",
   "execution_count": 21,
   "id": "9cabe2a1",
   "metadata": {},
   "outputs": [
    {
     "data": {
      "text/plain": [
       "<QuerySet [<Post: wert>, <Post: ertrteter>, <Post: Пост 45>, <Post: Пост 9>, <Post: Пост 98>, <Post: Test_Slug>, <Post: Test Slug Disable>, <Post: Look photo>]>"
      ]
     },
     "execution_count": 21,
     "metadata": {},
     "output_type": "execute_result"
    }
   ],
   "source": [
    "Post.objects.filter(id__gte=8) # больше или равно where id > 8"
   ]
  },
  {
   "cell_type": "code",
   "execution_count": 23,
   "id": "b43f1882",
   "metadata": {},
   "outputs": [
    {
     "data": {
      "text/plain": [
       "<QuerySet [<Post: Test>, <Post: Test2>, <Post: Test_3>, <Post: Test user user>, <Post: Test_Slug>, <Post: Test Slug Disable>]>"
      ]
     },
     "execution_count": 23,
     "metadata": {},
     "output_type": "execute_result"
    }
   ],
   "source": [
    "Post.objects.filter(title__startswith=\"Test\") # начинается с Testb"
   ]
  },
  {
   "cell_type": "code",
   "execution_count": 26,
   "id": "fbf5e26c",
   "metadata": {},
   "outputs": [
    {
     "data": {
      "text/plain": [
       "<QuerySet [<Post: Test user user>, <Post: ertrteter>]>"
      ]
     },
     "execution_count": 26,
     "metadata": {},
     "output_type": "execute_result"
    }
   ],
   "source": [
    "Post.objects.filter(pk__in=[4,7,9]).filter(title__contains=\"er\")"
   ]
  },
  {
   "cell_type": "code",
   "execution_count": 33,
   "id": "d7536afe",
   "metadata": {},
   "outputs": [
    {
     "data": {
      "text/plain": [
       "<Post: Test>"
      ]
     },
     "execution_count": 33,
     "metadata": {},
     "output_type": "execute_result"
    }
   ],
   "source": [
    "Post.objects.first()"
   ]
  },
  {
   "cell_type": "code",
   "execution_count": 34,
   "id": "e85fd8c1",
   "metadata": {},
   "outputs": [
    {
     "data": {
      "text/plain": [
       "<Post: Look photo>"
      ]
     },
     "execution_count": 34,
     "metadata": {},
     "output_type": "execute_result"
    }
   ],
   "source": [
    "Post.objects.last()"
   ]
  },
  {
   "cell_type": "code",
   "execution_count": 35,
   "id": "233435e0",
   "metadata": {},
   "outputs": [
    {
     "data": {
      "text/plain": [
       "<Post: Пост 98>"
      ]
     },
     "execution_count": 35,
     "metadata": {},
     "output_type": "execute_result"
    }
   ],
   "source": [
    "Post.objects.order_by('title').last()"
   ]
  },
  {
   "cell_type": "code",
   "execution_count": 36,
   "id": "66614381",
   "metadata": {},
   "outputs": [
    {
     "data": {
      "text/plain": [
       "<Post: ertrteter>"
      ]
     },
     "execution_count": 36,
     "metadata": {},
     "output_type": "execute_result"
    }
   ],
   "source": [
    "Post.objects.order_by('title').first()"
   ]
  },
  {
   "cell_type": "code",
   "execution_count": 38,
   "id": "9620859a",
   "metadata": {},
   "outputs": [
    {
     "data": {
      "text/plain": [
       "6"
      ]
     },
     "execution_count": 38,
     "metadata": {},
     "output_type": "execute_result"
    }
   ],
   "source": [
    "Post.objects.filter(title__contains='Test').count()"
   ]
  },
  {
   "cell_type": "code",
   "execution_count": 48,
   "id": "989fad22",
   "metadata": {},
   "outputs": [
    {
     "data": {
      "text/plain": [
       "<Post: Lorevin>"
      ]
     },
     "execution_count": 48,
     "metadata": {},
     "output_type": "execute_result"
    }
   ],
   "source": [
    "pt = Post.objects.get(pk=5)\n",
    "pt\n"
   ]
  },
  {
   "cell_type": "code",
   "execution_count": 49,
   "id": "9340d4b5",
   "metadata": {},
   "outputs": [
    {
     "data": {
      "text/plain": [
       "<Post: Terry Onecher>"
      ]
     },
     "execution_count": 49,
     "metadata": {},
     "output_type": "execute_result"
    }
   ],
   "source": [
    "pt.get_previous_by_date_create() # предыдущий пост"
   ]
  },
  {
   "cell_type": "code",
   "execution_count": 50,
   "id": "131d3df1",
   "metadata": {},
   "outputs": [
    {
     "data": {
      "text/plain": [
       "<Post: rt>"
      ]
     },
     "execution_count": 50,
     "metadata": {},
     "output_type": "execute_result"
    }
   ],
   "source": [
    "pt.get_next_by_date_create() #следующий пост"
   ]
  }
 ],
 "metadata": {
  "kernelspec": {
   "display_name": "Django Shell-Plus",
   "language": "python",
   "name": "django_extensions"
  },
  "language_info": {
   "codemirror_mode": {
    "name": "ipython",
    "version": 3
   },
   "file_extension": ".py",
   "mimetype": "text/x-python",
   "name": "python",
   "nbconvert_exporter": "python",
   "pygments_lexer": "ipython3",
   "version": "3.10.4"
  }
 },
 "nbformat": 4,
 "nbformat_minor": 5
}
