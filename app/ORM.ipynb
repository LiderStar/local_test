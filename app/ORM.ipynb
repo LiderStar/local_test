{
 "cells": [
  {
   "cell_type": "code",
   "execution_count": 1,
   "id": "be6d08eb",
   "metadata": {},
   "outputs": [],
   "source": [
    "from blog.models import Post\n",
    "from django.db import models\n"
   ]
  },
  {
   "cell_type": "code",
   "execution_count": 2,
   "id": "3088d4d6",
   "metadata": {},
   "outputs": [],
   "source": [
    "posts = Post.objects.all()"
   ]
  },
  {
   "cell_type": "code",
   "execution_count": 3,
   "id": "66417c41",
   "metadata": {},
   "outputs": [
    {
     "name": "stdout",
     "output_type": "stream",
     "text": [
      "/posts/1/\n",
      "/posts/test2/\n",
      "/posts/test_3/\n",
      "/posts/terry-onecher/\n",
      "/posts/lorevin/\n",
      "/posts/rt/\n",
      "/posts/user/\n",
      "/posts/wert/\n",
      "/posts/erter/\n",
      "/posts/post_45/\n",
      "/posts/post_47/\n",
      "/posts/post_48/\n",
      "/posts/test_slug/\n",
      "/posts/test-slug-disable/\n",
      "/posts/look_photo/\n"
     ]
    }
   ],
   "source": [
    "for i in posts:\n",
    "    print(i.get_absolute_url())"
   ]
  },
  {
   "cell_type": "code",
   "execution_count": 4,
   "id": "1ef3134d",
   "metadata": {},
   "outputs": [
    {
     "data": {
      "text/plain": [
       "<QuerySet [<Post: ertrteter>, <Post: Look photo>, <Post: Lorevin>, <Post: rt>, <Post: Terry Onecher>, <Post: Test>, <Post: Test Slug Disable>, <Post: Test user user>, <Post: Test_3>, <Post: Test_Slug>, <Post: Test2>, <Post: wert>, <Post: Пост 45>, <Post: Пост 9>, <Post: Пост 98>]>"
      ]
     },
     "execution_count": 4,
     "metadata": {},
     "output_type": "execute_result"
    }
   ],
   "source": [
    "Post.objects.all().order_by('title')"
   ]
  },
  {
   "cell_type": "code",
   "execution_count": 5,
   "id": "564244a4",
   "metadata": {},
   "outputs": [
    {
     "data": {
      "text/plain": [
       "<QuerySet [<Post: Test>, <Post: Test2>, <Post: Test_3>, <Post: Terry Onecher>, <Post: Lorevin>, <Post: rt>, <Post: Test user user>, <Post: wert>, <Post: ertrteter>, <Post: Пост 45>, <Post: Пост 9>, <Post: Пост 98>, <Post: Test_Slug>, <Post: Test Slug Disable>, <Post: Look photo>]>"
      ]
     },
     "execution_count": 5,
     "metadata": {},
     "output_type": "execute_result"
    }
   ],
   "source": [
    "Post.objects.all()"
   ]
  },
  {
   "cell_type": "code",
   "execution_count": 6,
   "id": "251c7f7d",
   "metadata": {},
   "outputs": [
    {
     "data": {
      "text/plain": [
       "<QuerySet [<Post: Look photo>, <Post: Test Slug Disable>, <Post: Test_Slug>, <Post: Пост 98>, <Post: Пост 9>, <Post: Пост 45>, <Post: ertrteter>, <Post: wert>, <Post: Test user user>, <Post: rt>, <Post: Lorevin>, <Post: Terry Onecher>, <Post: Test_3>, <Post: Test2>, <Post: Test>]>"
      ]
     },
     "execution_count": 6,
     "metadata": {},
     "output_type": "execute_result"
    }
   ],
   "source": [
    "Post.objects.all().reverse()"
   ]
  },
  {
   "cell_type": "code",
   "execution_count": 7,
   "id": "f0808874",
   "metadata": {},
   "outputs": [
    {
     "data": {
      "text/plain": [
       "<Post: Terry Onecher>"
      ]
     },
     "execution_count": 7,
     "metadata": {},
     "output_type": "execute_result"
    }
   ],
   "source": [
    "Post.objects.get(pk=3)"
   ]
  },
  {
   "cell_type": "code",
   "execution_count": 8,
   "id": "397efd01",
   "metadata": {},
   "outputs": [
    {
     "data": {
      "text/plain": [
       "'<p>ipsum dolor sit amet, consectetur adipisicing elit, sed do eiusmod tempor incididunt ut labore et dolore magna aliqua. Ut enim ad minim veniam, quis nostrud exercitation ullamco laboris nisi ut aliquip ex ea commodo consequat. Duis aute irure dolor in reprehenderit in voluptate velit esse cillum dolore eu fugiat nulla pariatur. Excepteur sint occaecat cupidatat non proident, sunt in culpa qui officia deserunt mollit anim id est laborum. Harum sunt modi rerum mollitia eveniet illum, asperiores impedit suscipit eaque doloremque voluptates, odio debitis assumenda quasi architecto quidem nam laboriosam animi nostrum natus cum? Dolorem quaerat accusamus consequatur praesentium tempora in cupiditate ipsam explicabo. Quibusdam totam veniam officia ipsa et modi, repellat vitae non cupiditate quis, voluptatem modi excepturi eligendi culpa animi nisi non cupiditate, error consequatur ipsam nihil quia laboriosam culpa saepe, cumque illum cum fugit sequi ex beatae aut. Quasi rerum quo harum quas provident saepe placeat ullam ipsum quae, tempore ea iusto aliquam quae dignissimos cumque quos officia esse dolorem, fuga possimus mollitia adipisci aspernatur nemo reiciendis quisquam expedita laudantium architecto, dolore optio nihil rem non. Corrupti molestias blanditiis corporis quam illo, maiores consequatur autem a ipsum magnam, culpa tempore sequi ullam architecto et accusantium.</p>'"
      ]
     },
     "execution_count": 8,
     "metadata": {},
     "output_type": "execute_result"
    }
   ],
   "source": [
    "i = Post.objects.get(title=\"Test2\")\n",
    "i.content"
   ]
  },
  {
   "cell_type": "raw",
   "id": "0c95561a",
   "metadata": {},
   "source": []
  },
  {
   "cell_type": "code",
   "execution_count": 10,
   "id": "3faef90b",
   "metadata": {},
   "outputs": [
    {
     "data": {
      "text/plain": [
       "<QuerySet [<User: user_user>, <User: locky>, <User: user>, <User: admin>]>"
      ]
     },
     "execution_count": 10,
     "metadata": {},
     "output_type": "execute_result"
    }
   ],
   "source": [
    "User.objects.all()"
   ]
  },
  {
   "cell_type": "code",
   "execution_count": 12,
   "id": "ab7aecc6",
   "metadata": {},
   "outputs": [
    {
     "data": {
      "text/plain": [
       "<QuerySet [{'id': 3, 'password': 'pbkdf2_sha256$390000$gcPduIhYsArBSQVjP8r6qw$Y9Xvinrq4cBCsgV6JN0YdwEsaCWTa4CPc9sNzVBH4Qo=', 'last_login': None, 'is_superuser': False, 'username': 'user_user', 'first_name': '', 'last_name': '', 'email': '', 'is_staff': False, 'is_active': True, 'date_joined': datetime.datetime(2023, 1, 24, 11, 11, 42, 589307, tzinfo=datetime.timezone.utc)}, {'id': 4, 'password': 'pbkdf2_sha256$390000$rbcXb3T3gfoX5xUSp3zAOF$g0fxUBSn9eacESUg3Cj7nCvaZV4ouItM8k93QfmKGhI=', 'last_login': datetime.datetime(2023, 1, 24, 18, 51, 17, 558892, tzinfo=datetime.timezone.utc), 'is_superuser': False, 'username': 'locky', 'first_name': '', 'last_name': '', 'email': '', 'is_staff': False, 'is_active': True, 'date_joined': datetime.datetime(2023, 1, 24, 18, 51, 17, 314989, tzinfo=datetime.timezone.utc)}, {'id': 5, 'password': 'pbkdf2_sha256$390000$137WjZS0bR5cSsRuPN8hXK$VgST55CH3UoCrmzRtZcFvu+IJbtk7qFHb7kUQE5L41M=', 'last_login': datetime.datetime(2023, 1, 24, 19, 31, 27, 135661, tzinfo=datetime.timezone.utc), 'is_superuser': False, 'username': 'user', 'first_name': '', 'last_name': '', 'email': '', 'is_staff': False, 'is_active': True, 'date_joined': datetime.datetime(2023, 1, 24, 19, 30, 47, 711185, tzinfo=datetime.timezone.utc)}, {'id': 1, 'password': 'pbkdf2_sha256$390000$jLaEjFo49bXWH0mb8VbnEB$3/PRGoeO55Bt3qwihGLet7hLMLHrqvRePz6ciIU1UHc=', 'last_login': datetime.datetime(2023, 1, 31, 6, 35, 37, 13400, tzinfo=datetime.timezone.utc), 'is_superuser': True, 'username': 'admin', 'first_name': '', 'last_name': '', 'email': '', 'is_staff': True, 'is_active': True, 'date_joined': datetime.datetime(2023, 1, 16, 11, 45, 5, 776241, tzinfo=datetime.timezone.utc)}]>"
      ]
     },
     "execution_count": 12,
     "metadata": {},
     "output_type": "execute_result"
    }
   ],
   "source": [
    "User.objects.values()"
   ]
  },
  {
   "cell_type": "code",
   "execution_count": 14,
   "id": "cd90ea6a",
   "metadata": {},
   "outputs": [],
   "source": [
    "us1=User.objects.get(pk=4)"
   ]
  },
  {
   "cell_type": "code",
   "execution_count": 16,
   "id": "c175349b",
   "metadata": {},
   "outputs": [
    {
     "data": {
      "text/plain": [
       "<QuerySet [<Post: Lorevin>, <Post: rt>, <Post: wert>, <Post: Test_Slug>, <Post: Test Slug Disable>, <Post: Look photo>]>"
      ]
     },
     "execution_count": 16,
     "metadata": {},
     "output_type": "execute_result"
    }
   ],
   "source": [
    "us1.post_set.all()"
   ]
  },
  {
   "cell_type": "code",
   "execution_count": 17,
   "id": "36f2148e",
   "metadata": {},
   "outputs": [
    {
     "name": "stdout",
     "output_type": "stream",
     "text": [
      "Lorevin\n",
      "rt\n",
      "wert\n",
      "Test_Slug\n",
      "Test Slug Disable\n",
      "Look photo\n"
     ]
    }
   ],
   "source": [
    "tr = us1.post_set.all()\n",
    "for i in tr:\n",
    "    print(i.title)"
   ]
  },
  {
   "cell_type": "code",
   "execution_count": 20,
   "id": "dcc97051",
   "metadata": {},
   "outputs": [
    {
     "data": {
      "text/plain": [
       "<QuerySet [<Post: ertrteter>, <Post: Пост 45>, <Post: Пост 9>, <Post: Пост 98>, <Post: Test_Slug>, <Post: Test Slug Disable>, <Post: Look photo>]>"
      ]
     },
     "execution_count": 20,
     "metadata": {},
     "output_type": "execute_result"
    }
   ],
   "source": [
    "Post.objects.filter(id__gt=8) # больше where id > 8"
   ]
  },
  {
   "cell_type": "code",
   "execution_count": 21,
   "id": "16f5f46f",
   "metadata": {},
   "outputs": [
    {
     "data": {
      "text/plain": [
       "<QuerySet [<Post: wert>, <Post: ertrteter>, <Post: Пост 45>, <Post: Пост 9>, <Post: Пост 98>, <Post: Test_Slug>, <Post: Test Slug Disable>, <Post: Look photo>]>"
      ]
     },
     "execution_count": 21,
     "metadata": {},
     "output_type": "execute_result"
    }
   ],
   "source": [
    "Post.objects.filter(id__gte=8) # больше или равно where id > 8"
   ]
  },
  {
   "cell_type": "code",
   "execution_count": 23,
   "id": "08cfd20e",
   "metadata": {},
   "outputs": [
    {
     "data": {
      "text/plain": [
       "<QuerySet [<Post: Test>, <Post: Test2>, <Post: Test_3>, <Post: Test user user>, <Post: Test_Slug>, <Post: Test Slug Disable>]>"
      ]
     },
     "execution_count": 23,
     "metadata": {},
     "output_type": "execute_result"
    }
   ],
   "source": [
    "Post.objects.filter(title__startswith=\"Test\") # начинается с Testb"
   ]
  },
  {
   "cell_type": "code",
   "execution_count": null,
   "id": "9bd0f51d",
   "metadata": {},
   "outputs": [],
   "source": []
  }
 ],
 "metadata": {
  "kernelspec": {
   "display_name": "Django Shell-Plus",
   "language": "python",
   "name": "django_extensions"
  },
  "language_info": {
   "codemirror_mode": {
    "name": "ipython",
    "version": 3
   },
   "file_extension": ".py",
   "mimetype": "text/x-python",
   "name": "python",
   "nbconvert_exporter": "python",
   "pygments_lexer": "ipython3",
   "version": "3.10.4"
  }
 },
 "nbformat": 4,
 "nbformat_minor": 5
}
