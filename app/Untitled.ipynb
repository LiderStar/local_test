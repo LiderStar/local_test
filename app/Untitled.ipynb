{
 "cells": [
  {
   "cell_type": "code",
   "execution_count": 2,
   "id": "41ee0b2f",
   "metadata": {},
   "outputs": [],
   "source": [
    "from django.db.models import Model\n",
    "from store.models import Book\n"
   ]
  },
  {
   "cell_type": "code",
   "execution_count": 11,
   "id": "8ed19c4d",
   "metadata": {},
   "outputs": [
    {
     "data": {
      "text/plain": [
       "<QuerySet [{'id': 1, 'password': 'pbkdf2_sha256$390000$jLaEjFo49bXWH0mb8VbnEB$3/PRGoeO55Bt3qwihGLet7hLMLHrqvRePz6ciIU1UHc=', 'last_login': datetime.datetime(2023, 1, 17, 15, 15, 44, 6951, tzinfo=datetime.timezone.utc), 'is_superuser': True, 'username': 'admin', 'first_name': '', 'last_name': '', 'email': '', 'is_staff': True, 'is_active': True, 'date_joined': datetime.datetime(2023, 1, 16, 11, 45, 5, 776241, tzinfo=datetime.timezone.utc)}]>"
      ]
     },
     "execution_count": 11,
     "metadata": {},
     "output_type": "execute_result"
    }
   ],
   "source": [
    "User.objects.all().values()"
   ]
  },
  {
   "cell_type": "code",
   "execution_count": 12,
   "id": "f8fa46f0",
   "metadata": {},
   "outputs": [
    {
     "data": {
      "text/plain": [
       "<QuerySet [{'id': 1, 'name': 'Crispy'}, {'id': 2, 'name': 'Cristyna'}, {'id': 3, 'name': 'Angel'}]>"
      ]
     },
     "execution_count": 12,
     "metadata": {},
     "output_type": "execute_result"
    }
   ],
   "source": [
    "Author.objects.all().values()"
   ]
  },
  {
   "cell_type": "code",
   "execution_count": 13,
   "id": "fd55a356",
   "metadata": {},
   "outputs": [
    {
     "data": {
      "text/plain": [
       "<QuerySet [{'id': 1, 'author_id': 1, 'title': 'Hello World', 'amount': 10, 'price': Decimal('256.00')}, {'id': 2, 'author_id': 3, 'title': 'Locky', 'amount': 45, 'price': Decimal('147.00')}, {'id': 3, 'author_id': 3, 'title': 'Frtyu', 'amount': 87, 'price': Decimal('897.00')}, {'id': 4, 'author_id': 1, 'title': 'Crispy_Book', 'amount': 25, 'price': Decimal('125.00')}, {'id': 5, 'author_id': 1, 'title': 'Crispy_Book_3', 'amount': 28, 'price': Decimal('126.00')}, {'id': 6, 'author_id': 1, 'title': 'Crispy_Book_1', 'amount': 27, 'price': Decimal('127.00')}, {'id': 7, 'author_id': 1, 'title': 'Crispy_Book_2', 'amount': 28, 'price': Decimal('128.00')}]>"
      ]
     },
     "execution_count": 13,
     "metadata": {},
     "output_type": "execute_result"
    }
   ],
   "source": [
    "Book.objects.all().values()"
   ]
  },
  {
   "cell_type": "code",
   "execution_count": 14,
   "id": "14453713",
   "metadata": {},
   "outputs": [
    {
     "data": {
      "text/plain": [
       "<QuerySet [{'id': 1, 'author_id': 1, 'title': 'Hello World', 'amount': 10, 'price': Decimal('256.00')}, {'id': 4, 'author_id': 1, 'title': 'Crispy_Book', 'amount': 25, 'price': Decimal('125.00')}, {'id': 5, 'author_id': 1, 'title': 'Crispy_Book_3', 'amount': 28, 'price': Decimal('126.00')}, {'id': 6, 'author_id': 1, 'title': 'Crispy_Book_1', 'amount': 27, 'price': Decimal('127.00')}, {'id': 7, 'author_id': 1, 'title': 'Crispy_Book_2', 'amount': 28, 'price': Decimal('128.00')}]>"
      ]
     },
     "execution_count": 14,
     "metadata": {},
     "output_type": "execute_result"
    }
   ],
   "source": [
    "Book.objects.filter(author=1).values()"
   ]
  },
  {
   "cell_type": "code",
   "execution_count": 23,
   "id": "f6eeee8c",
   "metadata": {},
   "outputs": [],
   "source": [
    "one_entry = Author.objects.get(name=\"Crispy\")"
   ]
  },
  {
   "cell_type": "code",
   "execution_count": 26,
   "id": "8a33fec5",
   "metadata": {},
   "outputs": [
    {
     "data": {
      "text/plain": [
       "1"
      ]
     },
     "execution_count": 26,
     "metadata": {},
     "output_type": "execute_result"
    }
   ],
   "source": [
    "one_entry.id\n"
   ]
  },
  {
   "cell_type": "code",
   "execution_count": 27,
   "id": "f72bae73",
   "metadata": {},
   "outputs": [
    {
     "data": {
      "text/plain": [
       "'Crispy'"
      ]
     },
     "execution_count": 27,
     "metadata": {},
     "output_type": "execute_result"
    }
   ],
   "source": [
    "one_entry.name"
   ]
  },
  {
   "cell_type": "code",
   "execution_count": 21,
   "id": "6008b679",
   "metadata": {},
   "outputs": [
    {
     "ename": "Http404",
     "evalue": "No Author matches the given query.",
     "output_type": "error",
     "traceback": [
      "\u001b[1;31m---------------------------------------------------------------------------\u001b[0m",
      "\u001b[1;31mDoesNotExist\u001b[0m                              Traceback (most recent call last)",
      "File \u001b[1;32m~\\Desktop\\Python_Developer\\DJ\\venv\\lib\\site-packages\\django\\shortcuts.py:85\u001b[0m, in \u001b[0;36mget_object_or_404\u001b[1;34m(klass, *args, **kwargs)\u001b[0m\n\u001b[0;32m     84\u001b[0m \u001b[38;5;28;01mtry\u001b[39;00m:\n\u001b[1;32m---> 85\u001b[0m     \u001b[38;5;28;01mreturn\u001b[39;00m queryset\u001b[38;5;241m.\u001b[39mget(\u001b[38;5;241m*\u001b[39margs, \u001b[38;5;241m*\u001b[39m\u001b[38;5;241m*\u001b[39mkwargs)\n\u001b[0;32m     86\u001b[0m \u001b[38;5;28;01mexcept\u001b[39;00m queryset\u001b[38;5;241m.\u001b[39mmodel\u001b[38;5;241m.\u001b[39mDoesNotExist:\n",
      "File \u001b[1;32m~\\Desktop\\Python_Developer\\DJ\\venv\\lib\\site-packages\\django\\db\\models\\query.py:650\u001b[0m, in \u001b[0;36mQuerySet.get\u001b[1;34m(self, *args, **kwargs)\u001b[0m\n\u001b[0;32m    649\u001b[0m \u001b[38;5;28;01mif\u001b[39;00m \u001b[38;5;129;01mnot\u001b[39;00m num:\n\u001b[1;32m--> 650\u001b[0m     \u001b[38;5;28;01mraise\u001b[39;00m \u001b[38;5;28mself\u001b[39m\u001b[38;5;241m.\u001b[39mmodel\u001b[38;5;241m.\u001b[39mDoesNotExist(\n\u001b[0;32m    651\u001b[0m         \u001b[38;5;124m\"\u001b[39m\u001b[38;5;132;01m%s\u001b[39;00m\u001b[38;5;124m matching query does not exist.\u001b[39m\u001b[38;5;124m\"\u001b[39m \u001b[38;5;241m%\u001b[39m \u001b[38;5;28mself\u001b[39m\u001b[38;5;241m.\u001b[39mmodel\u001b[38;5;241m.\u001b[39m_meta\u001b[38;5;241m.\u001b[39mobject_name\n\u001b[0;32m    652\u001b[0m     )\n\u001b[0;32m    653\u001b[0m \u001b[38;5;28;01mraise\u001b[39;00m \u001b[38;5;28mself\u001b[39m\u001b[38;5;241m.\u001b[39mmodel\u001b[38;5;241m.\u001b[39mMultipleObjectsReturned(\n\u001b[0;32m    654\u001b[0m     \u001b[38;5;124m\"\u001b[39m\u001b[38;5;124mget() returned more than one \u001b[39m\u001b[38;5;132;01m%s\u001b[39;00m\u001b[38;5;124m -- it returned \u001b[39m\u001b[38;5;132;01m%s\u001b[39;00m\u001b[38;5;124m!\u001b[39m\u001b[38;5;124m\"\u001b[39m\n\u001b[0;32m    655\u001b[0m     \u001b[38;5;241m%\u001b[39m (\n\u001b[1;32m   (...)\u001b[0m\n\u001b[0;32m    658\u001b[0m     )\n\u001b[0;32m    659\u001b[0m )\n",
      "\u001b[1;31mDoesNotExist\u001b[0m: Author matching query does not exist.",
      "\nDuring handling of the above exception, another exception occurred:\n",
      "\u001b[1;31mHttp404\u001b[0m                                   Traceback (most recent call last)",
      "Cell \u001b[1;32mIn[21], line 2\u001b[0m\n\u001b[0;32m      1\u001b[0m \u001b[38;5;28;01mfrom\u001b[39;00m \u001b[38;5;21;01mdjango\u001b[39;00m\u001b[38;5;21;01m.\u001b[39;00m\u001b[38;5;21;01mshortcuts\u001b[39;00m \u001b[38;5;28;01mimport\u001b[39;00m render, get_object_or_404\n\u001b[1;32m----> 2\u001b[0m author \u001b[38;5;241m=\u001b[39m \u001b[43mget_object_or_404\u001b[49m\u001b[43m(\u001b[49m\u001b[43mAuthor\u001b[49m\u001b[43m,\u001b[49m\u001b[43m \u001b[49m\u001b[43mname\u001b[49m\u001b[38;5;241;43m=\u001b[39;49m\u001b[38;5;124;43m'\u001b[39;49m\u001b[38;5;124;43mauthor\u001b[39;49m\u001b[38;5;124;43m'\u001b[39;49m\u001b[43m)\u001b[49m\n",
      "File \u001b[1;32m~\\Desktop\\Python_Developer\\DJ\\venv\\lib\\site-packages\\django\\shortcuts.py:87\u001b[0m, in \u001b[0;36mget_object_or_404\u001b[1;34m(klass, *args, **kwargs)\u001b[0m\n\u001b[0;32m     85\u001b[0m     \u001b[38;5;28;01mreturn\u001b[39;00m queryset\u001b[38;5;241m.\u001b[39mget(\u001b[38;5;241m*\u001b[39margs, \u001b[38;5;241m*\u001b[39m\u001b[38;5;241m*\u001b[39mkwargs)\n\u001b[0;32m     86\u001b[0m \u001b[38;5;28;01mexcept\u001b[39;00m queryset\u001b[38;5;241m.\u001b[39mmodel\u001b[38;5;241m.\u001b[39mDoesNotExist:\n\u001b[1;32m---> 87\u001b[0m     \u001b[38;5;28;01mraise\u001b[39;00m Http404(\n\u001b[0;32m     88\u001b[0m         \u001b[38;5;124m\"\u001b[39m\u001b[38;5;124mNo \u001b[39m\u001b[38;5;132;01m%s\u001b[39;00m\u001b[38;5;124m matches the given query.\u001b[39m\u001b[38;5;124m\"\u001b[39m \u001b[38;5;241m%\u001b[39m queryset\u001b[38;5;241m.\u001b[39mmodel\u001b[38;5;241m.\u001b[39m_meta\u001b[38;5;241m.\u001b[39mobject_name\n\u001b[0;32m     89\u001b[0m     )\n",
      "\u001b[1;31mHttp404\u001b[0m: No Author matches the given query."
     ]
    }
   ],
   "source": [
    "from django.shortcuts import render, get_object_or_404\n",
    "author = get_object_or_404(Author, name='author')"
   ]
  }
 ],
 "metadata": {
  "kernelspec": {
   "display_name": "Django Shell-Plus",
   "language": "python",
   "name": "django_extensions"
  },
  "language_info": {
   "codemirror_mode": {
    "name": "ipython",
    "version": 3
   },
   "file_extension": ".py",
   "mimetype": "text/x-python",
   "name": "python",
   "nbconvert_exporter": "python",
   "pygments_lexer": "ipython3",
   "version": "3.10.4"
  }
 },
 "nbformat": 4,
 "nbformat_minor": 5
}
