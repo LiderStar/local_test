{
 "cells": [
  {
   "cell_type": "code",
   "execution_count": 1,
   "id": "53b16666",
   "metadata": {},
   "outputs": [],
   "source": [
    "from django.db.models import Model\n",
    "from store.models import Author"
   ]
  },
  {
   "cell_type": "code",
   "execution_count": 2,
   "id": "8e978b70",
   "metadata": {},
   "outputs": [],
   "source": [
    "auth1 = Author.objects.create(name=\"Cristyna\")\n",
    "auth1.save()"
   ]
  }
 ],
 "metadata": {
  "kernelspec": {
   "display_name": "Django Shell-Plus",
   "language": "python",
   "name": "django_extensions"
  },
  "language_info": {
   "codemirror_mode": {
    "name": "ipython",
    "version": 3
   },
   "file_extension": ".py",
   "mimetype": "text/x-python",
   "name": "python",
   "nbconvert_exporter": "python",
   "pygments_lexer": "ipython3",
   "version": "3.10.4"
  }
 },
 "nbformat": 4,
 "nbformat_minor": 5
}
