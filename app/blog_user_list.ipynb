{
 "cells": [
  {
   "cell_type": "code",
   "execution_count": 1,
   "id": "dffbf9b6",
   "metadata": {},
   "outputs": [],
   "source": [
    "from django.db import models\n",
    "from blog.models import Post\n"
   ]
  },
  {
   "cell_type": "code",
   "execution_count": 12,
   "id": "badab766",
   "metadata": {},
   "outputs": [
    {
     "data": {
      "text/plain": [
       "<QuerySet [{'id': 1, 'title': 'Test', 'content': 'Loravel', 'date_create': datetime.datetime(2023, 1, 17, 15, 52, 10, tzinfo=datetime.timezone.utc), 'date_update': datetime.datetime(2023, 1, 17, 15, 52, 16, 965223, tzinfo=datetime.timezone.utc), 'author_id': 1, 'slug': '1', 'reply_id': None}, {'id': 2, 'title': 'Test2', 'content': 'Test2', 'date_create': datetime.datetime(2023, 1, 17, 19, 12, 19, tzinfo=datetime.timezone.utc), 'date_update': datetime.datetime(2023, 1, 17, 19, 12, 34, 460087, tzinfo=datetime.timezone.utc), 'author_id': 1, 'slug': 'test2', 'reply_id': None}, {'id': 3, 'title': 'Terry Onecher', 'content': '<p>TErry</p>', 'date_create': datetime.datetime(2023, 1, 19, 11, 48, 20, tzinfo=datetime.timezone.utc), 'date_update': datetime.datetime(2023, 1, 19, 11, 48, 51, 811361, tzinfo=datetime.timezone.utc), 'author_id': 1, 'slug': 'terry-onecher', 'reply_id': 2}, {'id': 4, 'title': 'Test_3', 'content': '<p>Check test_3</p>', 'date_create': datetime.datetime(2023, 1, 19, 11, 47, 38, tzinfo=datetime.timezone.utc), 'date_update': datetime.datetime(2023, 1, 19, 11, 48, 54, 110659, tzinfo=datetime.timezone.utc), 'author_id': 1, 'slug': 'test_3', 'reply_id': 3}]>"
      ]
     },
     "execution_count": 12,
     "metadata": {},
     "output_type": "execute_result"
    }
   ],
   "source": [
    "Post.objects.values()\n"
   ]
  },
  {
   "cell_type": "code",
   "execution_count": 16,
   "id": "6b5255f1",
   "metadata": {},
   "outputs": [
    {
     "data": {
      "text/plain": [
       "<QuerySet [{'id': 1, 'password': 'pbkdf2_sha256$390000$jLaEjFo49bXWH0mb8VbnEB$3/PRGoeO55Bt3qwihGLet7hLMLHrqvRePz6ciIU1UHc=', 'last_login': datetime.datetime(2023, 1, 17, 15, 15, 44, 6951, tzinfo=datetime.timezone.utc), 'is_superuser': True, 'username': 'admin', 'first_name': '', 'last_name': '', 'email': '', 'is_staff': True, 'is_active': True, 'date_joined': datetime.datetime(2023, 1, 16, 11, 45, 5, 776241, tzinfo=datetime.timezone.utc)}]>"
      ]
     },
     "execution_count": 16,
     "metadata": {},
     "output_type": "execute_result"
    }
   ],
   "source": [
    "User.objects.values()"
   ]
  },
  {
   "cell_type": "code",
   "execution_count": 16,
   "id": "17143ff6",
   "metadata": {},
   "outputs": [
    {
     "ename": "SyntaxError",
     "evalue": "expression cannot contain assignment, perhaps you meant \"==\"? (3111690183.py, line 1)",
     "output_type": "error",
     "traceback": [
      "\u001b[1;36m  Cell \u001b[1;32mIn[16], line 1\u001b[1;36m\u001b[0m\n\u001b[1;33m    User.objects.filter('user_id'=1).values()\u001b[0m\n\u001b[1;37m                        ^\u001b[0m\n\u001b[1;31mSyntaxError\u001b[0m\u001b[1;31m:\u001b[0m expression cannot contain assignment, perhaps you meant \"==\"?\n"
     ]
    }
   ],
   "source": [
    "User.objects.filter('user_id'=1).values()\n"
   ]
  },
  {
   "cell_type": "code",
   "execution_count": 19,
   "id": "00e92de2",
   "metadata": {},
   "outputs": [
    {
     "name": "stdout",
     "output_type": "stream",
     "text": [
      "Test2\n",
      "Test_3\n",
      "Test\n",
      "Terry Onecher\n"
     ]
    }
   ],
   "source": [
    "for e in Post.objects.filter(author=1).order_by('-title'):\n",
    "    print(e)"
   ]
  },
  {
   "cell_type": "code",
   "execution_count": 20,
   "id": "f4d69747",
   "metadata": {},
   "outputs": [
    {
     "data": {
      "text/plain": [
       "<Post: Terry Onecher>"
      ]
     },
     "execution_count": 20,
     "metadata": {},
     "output_type": "execute_result"
    }
   ],
   "source": [
    "Post.objects.filter(author=1).order_by('-title')[3]"
   ]
  }
 ],
 "metadata": {
  "kernelspec": {
   "display_name": "Django Shell-Plus",
   "language": "python",
   "name": "django_extensions"
  },
  "language_info": {
   "codemirror_mode": {
    "name": "ipython",
    "version": 3
   },
   "file_extension": ".py",
   "mimetype": "text/x-python",
   "name": "python",
   "nbconvert_exporter": "python",
   "pygments_lexer": "ipython3",
   "version": "3.10.4"
  }
 },
 "nbformat": 4,
 "nbformat_minor": 5
}
